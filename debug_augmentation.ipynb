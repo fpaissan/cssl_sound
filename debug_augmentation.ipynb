{
 "cells": [
  {
   "cell_type": "code",
   "execution_count": null,
   "id": "25645a33",
   "metadata": {
    "ExecuteTime": {
     "end_time": "2022-03-26T23:07:44.761743Z",
     "start_time": "2022-03-26T23:07:44.728062Z"
    }
   },
   "outputs": [],
   "source": [
    "%load_ext autoreload\n",
    "%autoreload 2\n",
    "\n",
    "def sound( x, rate=8000, label=''):\n",
    "    from IPython.display import display, Audio, HTML\n",
    "    if label is '':\n",
    "        display( Audio( x, rate=rate))\n",
    "    else:\n",
    "        display( HTML( \n",
    "        '<style> table, th, td {border: 0px; }</style> <table><tr><td>' + label + \n",
    "        '</td><td>' + Audio( x, rate=rate)._repr_html_()[3:] + '</td></tr></table>'\n",
    "        ))"
   ]
  },
  {
   "cell_type": "code",
   "execution_count": null,
   "id": "6015685d",
   "metadata": {
    "ExecuteTime": {
     "end_time": "2022-03-26T23:13:11.694130Z",
     "start_time": "2022-03-26T23:13:11.588203Z"
    }
   },
   "outputs": [],
   "source": [
    "from supclr_train import dataio_ssl_prep\n",
    "import torch\n",
    "import speechbrain as sb"
   ]
  },
  {
   "cell_type": "code",
   "execution_count": null,
   "id": "0fd7a402",
   "metadata": {
    "ExecuteTime": {
     "end_time": "2022-03-26T23:14:34.105989Z",
     "start_time": "2022-03-26T23:14:33.999927Z"
    }
   },
   "outputs": [],
   "source": [
    "hparams = {\n",
    "    'sample_rate': 16000,\n",
    "    'train_duration': 8.0\n",
    "}\n",
    "label_encoder_path = './dataset/label_encoder_tauuas2019_ordered.txt'\n",
    "label_encoder = sb.dataio.encoder.CategoricalEncoder()\n",
    "label_encoder.load_or_create(label_encoder_path)\n",
    "\n",
    "csv_path = '/mnt/data1/zhepei/outputs/cssl_sound/split_test/debug_2022-03-26+23-09-23_seed_2022+ssl_tau//save/train_task0_replay.csv'\n",
    "ds = dataio_ssl_prep(\n",
    "    hparams,\n",
    "    csv_path,\n",
    "    label_encoder\n",
    ")"
   ]
  },
  {
   "cell_type": "code",
   "execution_count": null,
   "id": "6729e5c7",
   "metadata": {
    "ExecuteTime": {
     "end_time": "2022-03-26T23:15:14.458128Z",
     "start_time": "2022-03-26T23:15:13.248437Z"
    }
   },
   "outputs": [],
   "source": [
    "idx = torch.randint(0, len(ds), (1,)).item()\n",
    "x1 = ds[idx]['sig1']\n",
    "x2 = ds[idx]['sig2']\n",
    "class_name = ds[idx]['class_name']\n",
    "\n",
    "sound(x1.numpy(), 16000, label='{}_{}_x1'.format(idx, class_name))\n",
    "sound(x2.numpy(), 16000, label='{}_{}_x2'.format(idx, class_name))"
   ]
  },
  {
   "cell_type": "markdown",
   "id": "df026b3a",
   "metadata": {},
   "source": [
    "# Time Domain Augmentation"
   ]
  },
  {
   "cell_type": "code",
   "execution_count": null,
   "id": "201a7867",
   "metadata": {
    "ExecuteTime": {
     "end_time": "2022-02-08T04:00:23.072435Z",
     "start_time": "2022-02-08T04:00:23.040035Z"
    }
   },
   "outputs": [],
   "source": [
    "# from speechbrain.lobes import augment\n",
    "# time_domain_aug = augment.TimeDomainSpecAugment(\n",
    "#     sample_rate=hparams['sample_rate'],\n",
    "#     speeds=[95, 100, 105],\n",
    "#     drop_freq_count_high=4,\n",
    "#     drop_chunk_count_high=3,\n",
    "#     drop_chunk_length_low=1000,\n",
    "#     drop_chunk_length_high=8000,\n",
    "#     drop_chunk_noise_factor=0.,\n",
    "# #     drop_chunk_count_high=2,\n",
    "# #     drop_chunk_noise_factor=0.05,\n",
    "# )"
   ]
  },
  {
   "cell_type": "code",
   "execution_count": null,
   "id": "b0de5579",
   "metadata": {
    "ExecuteTime": {
     "end_time": "2022-02-08T03:56:55.713542Z",
     "start_time": "2022-02-08T03:56:55.680566Z"
    }
   },
   "outputs": [],
   "source": [
    "# def compute_aug(wavs):\n",
    "#     lens = torch.ones(wavs.shape[0]).to(wavs.device)\n",
    "#     wavs_aug = time_domain_aug(wavs, lens)\n",
    "#     if wavs_aug.shape[1] > wavs.shape[1]:\n",
    "#         wavs_aug = wavs_aug[:, 0 : wavs.shape[1]]\n",
    "#     else:\n",
    "#         zero_sig = torch.zeros_like(wavs)\n",
    "#         zero_sig[:, 0 : wavs_aug.shape[1]] = wavs_aug\n",
    "#         wavs_aug = zero_sig\n",
    "#     return wavs_aug"
   ]
  },
  {
   "cell_type": "code",
   "execution_count": null,
   "id": "e549b64d",
   "metadata": {
    "ExecuteTime": {
     "end_time": "2022-02-08T04:00:46.632944Z",
     "start_time": "2022-02-08T04:00:46.585952Z"
    }
   },
   "outputs": [],
   "source": [
    "# x = ds[1211]['sig'].unsqueeze(0)\n",
    "# x1 = compute_aug(x)\n",
    "# x2 = compute_aug(x)"
   ]
  },
  {
   "cell_type": "code",
   "execution_count": null,
   "id": "33714a5d",
   "metadata": {
    "ExecuteTime": {
     "end_time": "2022-02-08T04:00:46.824141Z",
     "start_time": "2022-02-08T04:00:46.781528Z"
    }
   },
   "outputs": [],
   "source": [
    "# sound(x[0].numpy(), 16000, label='orig')\n",
    "# sound(x1[0].numpy(), 16000, label='x1')\n",
    "# sound(x2[0].numpy(), 16000, label='x2')"
   ]
  },
  {
   "cell_type": "markdown",
   "id": "cf731703",
   "metadata": {},
   "source": [
    "# Spec Augment"
   ]
  },
  {
   "cell_type": "code",
   "execution_count": null,
   "id": "323d7370",
   "metadata": {
    "ExecuteTime": {
     "end_time": "2022-02-22T16:59:31.657915Z",
     "start_time": "2022-02-22T16:59:31.614305Z"
    }
   },
   "outputs": [],
   "source": [
    "from speechbrain.lobes import features\n",
    "import augmentation\n",
    "compute_features = features.Fbank(\n",
    "    n_mels=80,\n",
    "    sample_rate=16000,\n",
    "    left_frames=0,\n",
    "    right_frames=0,\n",
    "    deltas=False,\n",
    "    n_fft=400,\n",
    "    win_length=25,\n",
    "    hop_length=10,\n",
    "    f_min=0\n",
    ")\n",
    "\n",
    "spec_domain_aug = augmentation.TFAugmentation(\n",
    "    time_warp=True,\n",
    "    time_warp_window=8,\n",
    "    freq_mask=True,\n",
    "    freq_mask_width=(0,10),\n",
    "    n_freq_mask=2,\n",
    "    time_mask=True,\n",
    "    time_mask_width=(0, 10),\n",
    "    n_time_mask=2,\n",
    "    replace_with_zero=True,\n",
    "    time_roll=True,\n",
    "    time_roll_limit=(0,200),\n",
    "    freq_shift=True,\n",
    "    freq_shift_limit=(-10, 10),\n",
    ")"
   ]
  },
  {
   "cell_type": "code",
   "execution_count": null,
   "id": "aebd7a73",
   "metadata": {
    "ExecuteTime": {
     "end_time": "2022-02-22T16:59:32.261599Z",
     "start_time": "2022-02-22T16:59:31.954994Z"
    }
   },
   "outputs": [],
   "source": [
    "def plot_spec_aug(x):\n",
    "    '''\n",
    "        x: (t,)\n",
    "    '''\n",
    "    import matplotlib.pyplot as plt\n",
    "    spec = compute_features(x.unsqueeze(0))\n",
    "    aug = spec_domain_aug(spec, None)\n",
    "    plt.subplot(1, 2, 1)\n",
    "    plt.pcolormesh(spec.squeeze(0).numpy().T)\n",
    "    plt.subplot(1, 2, 2)\n",
    "    plt.pcolormesh(aug.squeeze(0).numpy().T)\n",
    "\n",
    "plot_spec_aug(x1)"
   ]
  },
  {
   "cell_type": "code",
   "execution_count": null,
   "id": "6196b4e1",
   "metadata": {},
   "outputs": [],
   "source": []
  }
 ],
 "metadata": {
  "kernelspec": {
   "display_name": "pytorch110",
   "language": "python",
   "name": "pytorch110"
  },
  "language_info": {
   "codemirror_mode": {
    "name": "ipython",
    "version": 3
   },
   "file_extension": ".py",
   "mimetype": "text/x-python",
   "name": "python",
   "nbconvert_exporter": "python",
   "pygments_lexer": "ipython3",
   "version": "3.9.7"
  }
 },
 "nbformat": 4,
 "nbformat_minor": 5
}
