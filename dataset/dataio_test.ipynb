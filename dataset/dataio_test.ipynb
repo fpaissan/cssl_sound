{
 "cells": [
  {
   "cell_type": "code",
   "execution_count": null,
   "id": "7e71b6c4",
   "metadata": {
    "ExecuteTime": {
     "end_time": "2022-02-01T17:59:08.827889Z",
     "start_time": "2022-02-01T17:59:08.801428Z"
    }
   },
   "outputs": [],
   "source": [
    "%load_ext autoreload\n",
    "%autoreload 2\n",
    "\n",
    "def sound( x, rate=8000, label=''):\n",
    "    from IPython.display import display, Audio, HTML\n",
    "    if label is '':\n",
    "        display( Audio( x, rate=rate))\n",
    "    else:\n",
    "        display( HTML( \n",
    "        '<style> table, th, td {border: 0px; }</style> <table><tr><td>' + label + \n",
    "        '</td><td>' + Audio( x, rate=rate)._repr_html_()[3:] + '</td></tr></table>'\n",
    "        ))"
   ]
  },
  {
   "cell_type": "code",
   "execution_count": null,
   "id": "f6f54da4",
   "metadata": {
    "ExecuteTime": {
     "end_time": "2022-02-01T17:59:11.199020Z",
     "start_time": "2022-02-01T17:59:09.676797Z"
    }
   },
   "outputs": [],
   "source": [
    "import torch\n",
    "import torchaudio\n",
    "import numpy as np\n",
    "import os\n",
    "from speechbrain.dataio.batch import PaddedBatch"
   ]
  },
  {
   "cell_type": "code",
   "execution_count": null,
   "id": "c73e8a28",
   "metadata": {
    "ExecuteTime": {
     "end_time": "2022-02-01T17:59:12.624519Z",
     "start_time": "2022-02-01T17:59:12.594409Z"
    }
   },
   "outputs": [],
   "source": [
    "hparams = {\n",
    "    'sample_rate': 16000,\n",
    "#     'resampler': torchaudio.transforms.Resample(new_freq=16000),\n",
    "    'train_dataloader_opts': {\n",
    "        'batch_size': 32,\n",
    "        'num_workers': 0,\n",
    "    }\n",
    "}"
   ]
  },
  {
   "cell_type": "code",
   "execution_count": null,
   "id": "a23b0508",
   "metadata": {
    "ExecuteTime": {
     "end_time": "2022-02-01T17:59:49.239672Z",
     "start_time": "2022-02-01T17:59:49.202777Z"
    }
   },
   "outputs": [],
   "source": [
    "from data_pipelines import dataio_prep"
   ]
  },
  {
   "cell_type": "code",
   "execution_count": null,
   "id": "3bbc88fb",
   "metadata": {
    "ExecuteTime": {
     "end_time": "2022-01-27T21:37:33.317809Z",
     "start_time": "2022-01-27T21:37:33.280316Z"
    }
   },
   "outputs": [],
   "source": [
    "ds = dataio_prep(hparams, './csvs/train_task1_raw.csv', 4.0)\n",
    "dl = torch.utils.data.DataLoader(\n",
    "        ds,\n",
    "        batch_size=hparams[\"train_dataloader_opts\"][\"batch_size\"],\n",
    "        num_workers=hparams[\"train_dataloader_opts\"][\"num_workers\"],\n",
    "        collate_fn=PaddedBatch,\n",
    "        worker_init_fn=lambda x: np.random.seed(\n",
    "            int.from_bytes(os.urandom(4), \"little\") + x\n",
    "        ),\n",
    "    )"
   ]
  },
  {
   "cell_type": "code",
   "execution_count": null,
   "id": "8fb74901",
   "metadata": {
    "ExecuteTime": {
     "end_time": "2022-01-27T21:37:37.297648Z",
     "start_time": "2022-01-27T21:37:34.053907Z"
    }
   },
   "outputs": [],
   "source": [
    "for i, batch in enumerate(dl):\n",
    "    if i == 10: break\n",
    "    sig = batch['sig'].data\n",
    "    sig = sig[0].numpy()\n",
    "    label = batch['class'].data\n",
    "    label = label[0].item()\n",
    "    sound((batch['sig'].data)[0].numpy(), hparams['sample_rate'], label='{}:{}'.format((batch['class'].data)[0].item(), batch['class_name'][0]))"
   ]
  },
  {
   "cell_type": "code",
   "execution_count": null,
   "id": "ac4ce9e2",
   "metadata": {},
   "outputs": [],
   "source": []
  }
 ],
 "metadata": {
  "kernelspec": {
   "display_name": "pytorch110",
   "language": "python",
   "name": "pytorch110"
  },
  "language_info": {
   "codemirror_mode": {
    "name": "ipython",
    "version": 3
   },
   "file_extension": ".py",
   "mimetype": "text/x-python",
   "name": "python",
   "nbconvert_exporter": "python",
   "pygments_lexer": "ipython3",
   "version": "3.9.7"
  }
 },
 "nbformat": 4,
 "nbformat_minor": 5
}
