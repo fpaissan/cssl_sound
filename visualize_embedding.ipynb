{
 "cells": [
  {
   "cell_type": "code",
   "execution_count": null,
   "id": "9abcfd86",
   "metadata": {
    "ExecuteTime": {
     "end_time": "2022-02-23T21:01:59.887311Z",
     "start_time": "2022-02-23T21:01:59.875473Z"
    }
   },
   "outputs": [],
   "source": [
    "import os\n",
    "os.environ[\"CUDA_DEVICE_ORDER\"]=\"PCI_BUS_ID\"   # see issue #152\n",
    "os.environ[\"CUDA_VISIBLE_DEVICES\"]=\"3\""
   ]
  },
  {
   "cell_type": "code",
   "execution_count": null,
   "id": "c5c5fe1e",
   "metadata": {
    "ExecuteTime": {
     "end_time": "2022-02-23T21:01:59.904833Z",
     "start_time": "2022-02-23T21:01:59.889212Z"
    }
   },
   "outputs": [],
   "source": [
    "%load_ext autoreload\n",
    "%autoreload 2\n",
    "\n",
    "def sound( x, rate=8000, label=''):\n",
    "    from IPython.display import display, Audio, HTML\n",
    "    if label is '':\n",
    "        display( Audio( x, rate=rate))\n",
    "    else:\n",
    "        display( HTML( \n",
    "        '<style> table, th, td {border: 0px; }</style> <table><tr><td>' + label + \n",
    "        '</td><td>' + Audio( x, rate=rate)._repr_html_()[3:] + '</td></tr></table>'\n",
    "        ))"
   ]
  },
  {
   "cell_type": "code",
   "execution_count": null,
   "id": "336a699a",
   "metadata": {
    "ExecuteTime": {
     "end_time": "2022-02-23T21:02:02.179124Z",
     "start_time": "2022-02-23T21:01:59.906276Z"
    }
   },
   "outputs": [],
   "source": [
    "from linclf_train import dataio_prep\n",
    "import numpy as np\n",
    "import speechbrain as sb\n",
    "import torch\n",
    "import torchaudio\n",
    "from tqdm.notebook import tqdm\n",
    "from hyperpyyaml import load_hyperpyyaml\n",
    "import pdb"
   ]
  },
  {
   "cell_type": "code",
   "execution_count": null,
   "id": "84b85897",
   "metadata": {
    "ExecuteTime": {
     "end_time": "2022-02-23T21:02:02.621603Z",
     "start_time": "2022-02-23T21:02:02.181162Z"
    }
   },
   "outputs": [],
   "source": [
    "with open('./hparams/visualize.yaml') as fin:\n",
    "    hparams = load_hyperpyyaml(fin)"
   ]
  },
  {
   "cell_type": "code",
   "execution_count": null,
   "id": "df577c94",
   "metadata": {
    "ExecuteTime": {
     "end_time": "2022-02-23T21:02:02.660533Z",
     "start_time": "2022-02-23T21:02:02.625038Z"
    }
   },
   "outputs": [],
   "source": [
    "label_encoder = sb.dataio.encoder.CategoricalEncoder()\n",
    "label_encoder.load_or_create(hparams['label_encoder_path'])"
   ]
  },
  {
   "cell_type": "code",
   "execution_count": null,
   "id": "12a3d525",
   "metadata": {
    "ExecuteTime": {
     "end_time": "2022-02-23T21:02:02.770098Z",
     "start_time": "2022-02-23T21:02:02.662938Z"
    }
   },
   "outputs": [],
   "source": [
    "train_ds = dataio_prep(\n",
    "    hparams,\n",
    "    hparams['csv_path']['train'],\n",
    "    label_encoder\n",
    ")\n",
    "train_loader = sb.dataio.dataloader.make_dataloader(\n",
    "    train_ds, **hparams['valid_dataloader_opts']\n",
    ")\n",
    "\n",
    "test_ds = dataio_prep(\n",
    "    hparams,\n",
    "    hparams['csv_path']['test'],\n",
    "    label_encoder\n",
    ")\n",
    "test_loader = sb.dataio.dataloader.make_dataloader(\n",
    "    test_ds, **hparams['valid_dataloader_opts']\n",
    ")"
   ]
  },
  {
   "cell_type": "code",
   "execution_count": null,
   "id": "e44a2385",
   "metadata": {
    "ExecuteTime": {
     "end_time": "2022-02-23T21:02:07.830660Z",
     "start_time": "2022-02-23T21:02:02.772784Z"
    }
   },
   "outputs": [],
   "source": [
    "# load weights from pretrained embedder and normalizer\n",
    "ssl_checkpointer = sb.utils.checkpoints.Checkpointer(\n",
    "    os.path.join(hparams['ssl_checkpoints_dir'], 'task4'),\n",
    "    recoverables={\n",
    "        'embedding_model': hparams['embedding_model'],\n",
    "        'normalizer': hparams['mean_var_norm'],\n",
    "    },\n",
    ")\n",
    "ssl_checkpointer.recover_if_possible(\n",
    "    min_key='loss',\n",
    ")\n",
    "for p in hparams['embedding_model'].parameters():\n",
    "    p.requires_grad = False\n",
    "hparams['embedding_model'].eval()\n",
    "print(\"==> Recovering embedder checkpointer at {}\".format(ssl_checkpointer.checkpoints_dir))"
   ]
  },
  {
   "cell_type": "code",
   "execution_count": null,
   "id": "ac770a1a",
   "metadata": {
    "ExecuteTime": {
     "end_time": "2022-02-23T21:02:07.910498Z",
     "start_time": "2022-02-23T21:02:07.833762Z"
    }
   },
   "outputs": [],
   "source": [
    "device = torch.device('cuda:0')\n",
    "hparams['compute_features'].to(device)\n",
    "hparams['mean_var_norm'].to(device)\n",
    "hparams['embedding_model'].to(device)"
   ]
  },
  {
   "cell_type": "code",
   "execution_count": null,
   "id": "84626056",
   "metadata": {
    "ExecuteTime": {
     "end_time": "2022-02-23T21:02:07.934682Z",
     "start_time": "2022-02-23T21:02:07.912022Z"
    }
   },
   "outputs": [],
   "source": [
    "def compute_embedding(hparams, batch):\n",
    "    batch = batch.to(device)\n",
    "    wavs, lens = batch.sig\n",
    "    with torch.no_grad():\n",
    "        feats = hparams['compute_features'](wavs)\n",
    "        if hparams[\"amp_to_db\"]:\n",
    "            Amp2db = torchaudio.transforms.AmplitudeToDB(\n",
    "                stype=\"power\", top_db=80\n",
    "            )  # try \"magnitude\" Vs \"power\"? db= 80, 50...\n",
    "            feats = Amp2db(feats)\n",
    "\n",
    "        # Normalization\n",
    "        if hparams[\"normalize\"]:\n",
    "            feats = hparams[\"mean_var_norm\"](feats, lens)\n",
    "        embeddings = hparams['embedding_model'](feats) # [B, 1, D]\n",
    "    return embeddings"
   ]
  },
  {
   "cell_type": "code",
   "execution_count": null,
   "id": "b485c3b7",
   "metadata": {
    "ExecuteTime": {
     "end_time": "2022-02-23T21:02:26.105374Z",
     "start_time": "2022-02-23T21:02:07.936281Z"
    }
   },
   "outputs": [],
   "source": [
    "train_embs = []\n",
    "train_labels = []\n",
    "with torch.no_grad():\n",
    "    for batch in tqdm(\n",
    "        train_loader, dynamic_ncols=True\n",
    "    ):\n",
    "        emb = compute_embedding(hparams, batch).squeeze(1) # [B, D]\n",
    "        train_embs.append(emb.cpu().numpy())\n",
    "        train_labels.append(batch.class_string_encoded.data.cpu().numpy())\n",
    "train_embs = np.concatenate(train_embs)\n",
    "train_labels = np.concatenate(train_labels).squeeze()"
   ]
  },
  {
   "cell_type": "code",
   "execution_count": null,
   "id": "5e13567b",
   "metadata": {
    "ExecuteTime": {
     "end_time": "2022-02-23T21:02:29.383694Z",
     "start_time": "2022-02-23T21:02:26.107614Z"
    }
   },
   "outputs": [],
   "source": [
    "test_embs = []\n",
    "test_labels = []\n",
    "with torch.no_grad():\n",
    "    for batch in tqdm(\n",
    "        test_loader, dynamic_ncols=True\n",
    "    ):\n",
    "        emb = compute_embedding(hparams, batch).squeeze(1) # [B, D]\n",
    "        test_embs.append(emb.cpu().numpy())\n",
    "        test_labels.append(batch.class_string_encoded.data.cpu().numpy())\n",
    "test_embs = np.concatenate(test_embs)\n",
    "test_labels = np.concatenate(test_labels).squeeze()"
   ]
  },
  {
   "cell_type": "code",
   "execution_count": null,
   "id": "362c1abe",
   "metadata": {
    "ExecuteTime": {
     "end_time": "2022-02-23T21:02:29.417840Z",
     "start_time": "2022-02-23T21:02:29.385524Z"
    }
   },
   "outputs": [],
   "source": [
    "def plot_PCA_projection(x_train, y_train, x_test, y_test):\n",
    "    from sklearn.decomposition import PCA\n",
    "    pca_transform = PCA(n_components=2, random_state=0)\n",
    "    pca_train = pca_transform.fit_transform(x_train)\n",
    "    pca_test = pca_transform.transform(x_test)\n",
    "    import matplotlib.pyplot as plt\n",
    "    plt.figure(figsize=(10,10))\n",
    "    plt.subplot(111)\n",
    "    for label in range(10):\n",
    "        sub_embs = pca_train[y_train==label]\n",
    "        print(sub_embs.shape)\n",
    "        plt.scatter(sub_embs[:, 0], sub_embs[:, 1], label=label_encoder.ind2lab[label], alpha=0.3)\n",
    "    plt.legend(loc='best')"
   ]
  },
  {
   "cell_type": "code",
   "execution_count": null,
   "id": "3a869135",
   "metadata": {
    "ExecuteTime": {
     "end_time": "2022-02-23T21:02:30.598299Z",
     "start_time": "2022-02-23T21:02:29.420008Z"
    }
   },
   "outputs": [],
   "source": [
    "plot_PCA_projection(train_embs, train_labels, test_embs, test_labels)"
   ]
  },
  {
   "cell_type": "code",
   "execution_count": null,
   "id": "93fea872",
   "metadata": {
    "ExecuteTime": {
     "end_time": "2022-02-23T21:02:30.641860Z",
     "start_time": "2022-02-23T21:02:30.601772Z"
    }
   },
   "outputs": [],
   "source": [
    "def plot_tsne_projection(x_train, y_train, x_test, y_test, pca_dim=None):\n",
    "    from sklearn.decomposition import PCA\n",
    "    from sklearn.manifold import TSNE\n",
    "    if pca_dim is not None:\n",
    "        pca_transform = PCA(n_components=50, random_state=0)\n",
    "        x_train = pca_transform.fit_transform(x_train)\n",
    "        x_test = pca_transform.transform(x_test)\n",
    "    tsne_transform = TSNE(n_components=2, random_state=0, verbose=1, perplexity=40, n_iter=300)\n",
    "    tsne_train = tsne_transform.fit_transform(x_train)\n",
    "#     tsne_test = tsne_transform.transform(x_test)\n",
    "    import matplotlib.pyplot as plt\n",
    "    plt.figure(figsize=(10,10))\n",
    "    plt.subplot(111)\n",
    "    for label in range(10):\n",
    "        sub_embs = tsne_train[y_train==label]\n",
    "        print(sub_embs.shape)\n",
    "        plt.scatter(sub_embs[:, 0], sub_embs[:, 1], label=label_encoder.ind2lab[label], alpha=0.3)\n",
    "    plt.legend(loc='best')"
   ]
  },
  {
   "cell_type": "code",
   "execution_count": null,
   "id": "ab207914",
   "metadata": {
    "ExecuteTime": {
     "end_time": "2022-02-23T21:02:39.756648Z",
     "start_time": "2022-02-23T21:02:30.644363Z"
    }
   },
   "outputs": [],
   "source": [
    "plot_tsne_projection(train_embs, train_labels, test_embs, test_labels, pca_dim=None)"
   ]
  },
  {
   "cell_type": "code",
   "execution_count": null,
   "id": "5a21911a",
   "metadata": {},
   "outputs": [],
   "source": []
  }
 ],
 "metadata": {
  "kernelspec": {
   "display_name": "pytorch110",
   "language": "python",
   "name": "pytorch110"
  },
  "language_info": {
   "codemirror_mode": {
    "name": "ipython",
    "version": 3
   },
   "file_extension": ".py",
   "mimetype": "text/x-python",
   "name": "python",
   "nbconvert_exporter": "python",
   "pygments_lexer": "ipython3",
   "version": "3.9.7"
  }
 },
 "nbformat": 4,
 "nbformat_minor": 5
}
